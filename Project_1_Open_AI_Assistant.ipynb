{
  "cells": [
    {
      "cell_type": "code",
      "execution_count": null,
      "metadata": {
        "colab": {
          "base_uri": "https://localhost:8080/"
        },
        "id": "yqyLUYg5sUhK",
        "outputId": "1aad41d5-ccc4-407e-e9a8-d4b7819e4091"
      },
      "outputs": [
        {
          "output_type": "stream",
          "name": "stdout",
          "text": [
            "Collecting openai\n",
            "  Downloading openai-1.35.15-py3-none-any.whl (328 kB)\n",
            "\u001b[2K     \u001b[90m━━━━━━━━━━━━━━━━━━━━━━━━━━━━━━━━━━━━━━━━\u001b[0m \u001b[32m328.6/328.6 kB\u001b[0m \u001b[31m5.3 MB/s\u001b[0m eta \u001b[36m0:00:00\u001b[0m\n",
            "\u001b[?25hRequirement already satisfied: anyio<5,>=3.5.0 in /usr/local/lib/python3.10/dist-packages (from openai) (3.7.1)\n",
            "Requirement already satisfied: distro<2,>=1.7.0 in /usr/lib/python3/dist-packages (from openai) (1.7.0)\n",
            "Collecting httpx<1,>=0.23.0 (from openai)\n",
            "  Downloading httpx-0.27.0-py3-none-any.whl (75 kB)\n",
            "\u001b[2K     \u001b[90m━━━━━━━━━━━━━━━━━━━━━━━━━━━━━━━━━━━━━━━━\u001b[0m \u001b[32m75.6/75.6 kB\u001b[0m \u001b[31m7.1 MB/s\u001b[0m eta \u001b[36m0:00:00\u001b[0m\n",
            "\u001b[?25hRequirement already satisfied: pydantic<3,>=1.9.0 in /usr/local/lib/python3.10/dist-packages (from openai) (2.8.2)\n",
            "Requirement already satisfied: sniffio in /usr/local/lib/python3.10/dist-packages (from openai) (1.3.1)\n",
            "Requirement already satisfied: tqdm>4 in /usr/local/lib/python3.10/dist-packages (from openai) (4.66.4)\n",
            "Requirement already satisfied: typing-extensions<5,>=4.7 in /usr/local/lib/python3.10/dist-packages (from openai) (4.12.2)\n",
            "Requirement already satisfied: idna>=2.8 in /usr/local/lib/python3.10/dist-packages (from anyio<5,>=3.5.0->openai) (3.7)\n",
            "Requirement already satisfied: exceptiongroup in /usr/local/lib/python3.10/dist-packages (from anyio<5,>=3.5.0->openai) (1.2.2)\n",
            "Requirement already satisfied: certifi in /usr/local/lib/python3.10/dist-packages (from httpx<1,>=0.23.0->openai) (2024.7.4)\n",
            "Collecting httpcore==1.* (from httpx<1,>=0.23.0->openai)\n",
            "  Downloading httpcore-1.0.5-py3-none-any.whl (77 kB)\n",
            "\u001b[2K     \u001b[90m━━━━━━━━━━━━━━━━━━━━━━━━━━━━━━━━━━━━━━━━\u001b[0m \u001b[32m77.9/77.9 kB\u001b[0m \u001b[31m6.3 MB/s\u001b[0m eta \u001b[36m0:00:00\u001b[0m\n",
            "\u001b[?25hCollecting h11<0.15,>=0.13 (from httpcore==1.*->httpx<1,>=0.23.0->openai)\n",
            "  Downloading h11-0.14.0-py3-none-any.whl (58 kB)\n",
            "\u001b[2K     \u001b[90m━━━━━━━━━━━━━━━━━━━━━━━━━━━━━━━━━━━━━━━━\u001b[0m \u001b[32m58.3/58.3 kB\u001b[0m \u001b[31m5.5 MB/s\u001b[0m eta \u001b[36m0:00:00\u001b[0m\n",
            "\u001b[?25hRequirement already satisfied: annotated-types>=0.4.0 in /usr/local/lib/python3.10/dist-packages (from pydantic<3,>=1.9.0->openai) (0.7.0)\n",
            "Requirement already satisfied: pydantic-core==2.20.1 in /usr/local/lib/python3.10/dist-packages (from pydantic<3,>=1.9.0->openai) (2.20.1)\n",
            "Installing collected packages: h11, httpcore, httpx, openai\n",
            "Successfully installed h11-0.14.0 httpcore-1.0.5 httpx-0.27.0 openai-1.35.15\n"
          ]
        }
      ],
      "source": [
        "!pip install openai"
      ]
    },
    {
      "cell_type": "code",
      "execution_count": null,
      "metadata": {
        "id": "cK0YPnzVsbhO",
        "colab": {
          "base_uri": "https://localhost:8080/"
        },
        "outputId": "6ffc911e-ab4d-4b6d-e8e7-95130ce44199"
      },
      "outputs": [
        {
          "output_type": "execute_result",
          "data": {
            "text/plain": [
              "<openai.OpenAI at 0x7ecf39aa6320>"
            ]
          },
          "metadata": {},
          "execution_count": 2
        }
      ],
      "source": [
        "from openai import OpenAI\n",
        "client = OpenAI(api_key = \"api-key\")\n",
        "client"
      ]
    },
    {
      "cell_type": "code",
      "execution_count": null,
      "metadata": {
        "id": "v6BgrO7PsbVQ",
        "colab": {
          "base_uri": "https://localhost:8080/"
        },
        "outputId": "ddca1e72-0d60-4a76-fb34-e5493d82f2d0"
      },
      "outputs": [
        {
          "output_type": "execute_result",
          "data": {
            "text/plain": [
              "Thread(id='thread_tmiWciH22afY39sHNI3Mquzl', created_at=1721359050, metadata={}, object='thread', tool_resources=ToolResources(code_interpreter=None, file_search=None))"
            ]
          },
          "metadata": {},
          "execution_count": 3
        }
      ],
      "source": [
        "thread = client.beta.threads.create()\n",
        "thread"
      ]
    },
    {
      "cell_type": "code",
      "execution_count": null,
      "metadata": {
        "id": "HWceqG1qwRor"
      },
      "outputs": [],
      "source": [
        "assistant_id = \"assistant_id\""
      ]
    },
    {
      "cell_type": "code",
      "source": [
        "message = client.beta.threads.messages.create(\n",
        "    thread_id=thread.id,\n",
        "    role=\"user\",\n",
        "    content=\"Who is the hero of the story?\"\n",
        ")"
      ],
      "metadata": {
        "id": "XA33qyXk_5gY"
      },
      "execution_count": null,
      "outputs": []
    },
    {
      "cell_type": "code",
      "execution_count": null,
      "metadata": {
        "id": "n167t7_bvzWc"
      },
      "outputs": [],
      "source": [
        "run = client.beta.threads.runs.create(\n",
        "  thread_id=thread.id,\n",
        "  assistant_id=assistant_id\n",
        ")"
      ]
    },
    {
      "cell_type": "code",
      "source": [
        "thread.id"
      ],
      "metadata": {
        "colab": {
          "base_uri": "https://localhost:8080/",
          "height": 35
        },
        "id": "MGjzD7NCAvYs",
        "outputId": "12479893-9b45-43c7-8cc8-cd65c8bb5da4"
      },
      "execution_count": null,
      "outputs": [
        {
          "output_type": "execute_result",
          "data": {
            "text/plain": [
              "'thread_tmiWciH22afY39sHNI3Mquzl'"
            ],
            "application/vnd.google.colaboratory.intrinsic+json": {
              "type": "string"
            }
          },
          "metadata": {},
          "execution_count": 8
        }
      ]
    },
    {
      "cell_type": "code",
      "execution_count": null,
      "metadata": {
        "id": "xDFA3GpAwVs1"
      },
      "outputs": [],
      "source": [
        "run = client.beta.threads.runs.retrieve(\n",
        "  thread_id=thread.id,\n",
        "  run_id=run.id\n",
        ")"
      ]
    },
    {
      "cell_type": "code",
      "execution_count": null,
      "metadata": {
        "id": "LTxbm44dwa9G",
        "colab": {
          "base_uri": "https://localhost:8080/",
          "height": 35
        },
        "outputId": "c4c65bff-d9c7-4542-c3c9-819c7ad18e6d"
      },
      "outputs": [
        {
          "output_type": "execute_result",
          "data": {
            "text/plain": [
              "'completed'"
            ],
            "application/vnd.google.colaboratory.intrinsic+json": {
              "type": "string"
            }
          },
          "metadata": {},
          "execution_count": 10
        }
      ],
      "source": [
        "run.status"
      ]
    },
    {
      "cell_type": "code",
      "execution_count": null,
      "metadata": {
        "id": "k2gaGxZ8whye",
        "colab": {
          "base_uri": "https://localhost:8080/"
        },
        "outputId": "3204162a-292f-453d-ed45-a1082f052a37"
      },
      "outputs": [
        {
          "output_type": "execute_result",
          "data": {
            "text/plain": [
              "SyncCursorPage[Message](data=[Message(id='msg_Tua77YisjLZZ8jN4H8aXKWyu', assistant_id='asst_39Iej89c9Qy4GEjx0xKPBRG4', attachments=[], completed_at=None, content=[TextContentBlock(text=Text(annotations=[FileCitationAnnotation(end_index=358, file_citation=FileCitation(file_id='file-YozxocDSbKeAOxjKbklUxHUR'), start_index=346, text='【7:0†source】', type='file_citation')], value='Ah, the hero of this epic tale of HTML wonder and Bluetooth glory is none other than... drum roll, please... the \"Detail hero-quick-promo Desktop\"! That\\'s right, the true star of the show is an ad placement section with a heroic name. This valiant hero\\'s job is to promote quick details and ads on your desktop, saving the day one promo at a time【7:0†source】. \\n\\nIn this vast saga of radio Bluetooth, one must never underestimate the power of the \"hero-quick-promo\"!'), type='text')], created_at=1721359309, incomplete_at=None, incomplete_details=None, metadata={}, object='thread.message', role='assistant', run_id='run_saPBNiRv3gWEjw2y78igvDlT', status=None, thread_id='thread_tmiWciH22afY39sHNI3Mquzl'), Message(id='msg_G7OfvZNbV3gJtXdrxC1vi7RB', assistant_id=None, attachments=[], completed_at=None, content=[TextContentBlock(text=Text(annotations=[], value='Who is the hero of the story?'), type='text')], created_at=1721359293, incomplete_at=None, incomplete_details=None, metadata={}, object='thread.message', role='user', run_id=None, status=None, thread_id='thread_tmiWciH22afY39sHNI3Mquzl'), Message(id='msg_MkqE3peMb7rgr9ARNOyerjTJ', assistant_id='asst_39Iej89c9Qy4GEjx0xKPBRG4', attachments=[], completed_at=None, content=[TextContentBlock(text=Text(annotations=[], value=\"It seems like the file you uploaded is an HTML document related to a radio bluetooth device. What's the particular comedic gem you're looking for in this treasure trove? Are you after some hilarious tech specs, the laugh-out-loud user reviews, or maybe the gut-busting product marketing fluff? Let me know, and I'll help you make this Bluetooth speaker the star of your comedy routine!\"), type='text')], created_at=1721359068, incomplete_at=None, incomplete_details=None, metadata={}, object='thread.message', role='assistant', run_id='run_ApHs8NWMfiTd6cfqOd4aZKPO', status=None, thread_id='thread_tmiWciH22afY39sHNI3Mquzl')], object='list', first_id='msg_Tua77YisjLZZ8jN4H8aXKWyu', last_id='msg_MkqE3peMb7rgr9ARNOyerjTJ', has_more=False)"
            ]
          },
          "metadata": {},
          "execution_count": 11
        }
      ],
      "source": [
        "messages = client.beta.threads.messages.list(thread_id=thread.id)\n",
        "messages"
      ]
    },
    {
      "cell_type": "code",
      "execution_count": null,
      "metadata": {
        "id": "bhIPBLQ4wvc2",
        "colab": {
          "base_uri": "https://localhost:8080/"
        },
        "outputId": "9829482b-99a4-417d-f084-7e2a849750cc"
      },
      "outputs": [
        {
          "output_type": "stream",
          "name": "stdout",
          "text": [
            "Ah, the hero of this epic tale of HTML wonder and Bluetooth glory is none other than... drum roll, please... the \"Detail hero-quick-promo Desktop\"! That's right, the true star of the show is an ad placement section with a heroic name. This valiant hero's job is to promote quick details and ads on your desktop, saving the day one promo at a time【7:0†source】. \n",
            "\n",
            "In this vast saga of radio Bluetooth, one must never underestimate the power of the \"hero-quick-promo\"!\n"
          ]
        }
      ],
      "source": [
        "while True:\n",
        "    run = client.beta.threads.runs.retrieve(thread_id=thread.id, run_id=run.id)\n",
        "    if run.status==\"completed\":\n",
        "        messages = client.beta.threads.messages.list(thread_id=thread.id)\n",
        "        latest_message = messages.data[0]\n",
        "        text = latest_message.content[0].text.value\n",
        "        print(text)\n",
        "        break;"
      ]
    },
    {
      "cell_type": "code",
      "execution_count": null,
      "metadata": {
        "id": "Y13Gor4ZxLe3"
      },
      "outputs": [],
      "source": []
    }
  ],
  "metadata": {
    "colab": {
      "provenance": []
    },
    "kernelspec": {
      "display_name": "Python 3",
      "name": "python3"
    },
    "language_info": {
      "name": "python"
    }
  },
  "nbformat": 4,
  "nbformat_minor": 0
}